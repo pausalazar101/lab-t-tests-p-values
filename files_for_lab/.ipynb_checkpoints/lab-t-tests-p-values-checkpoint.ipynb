{
 "cells": [
  {
   "cell_type": "code",
   "execution_count": 22,
   "id": "4e31ed2d-0450-4edd-8f65-9a511dbeaa1e",
   "metadata": {},
   "outputs": [],
   "source": [
    "import math\n",
    "import numpy as np\n",
    "import scipy.stats as stats"
   ]
  },
  {
   "cell_type": "code",
   "execution_count": 14,
   "id": "3c298b62-df26-4fac-9613-f942b8a3b269",
   "metadata": {},
   "outputs": [],
   "source": [
    "encodings_to_try = ['utf-8', 'utf-16', 'latin-1']  \n",
    "\n",
    "for encoding in encodings_to_try:\n",
    "    try:\n",
    "        with open('machine.txt', 'r', encoding=encoding) as file:\n",
    "            lines = file.readlines()\n",
    "        break  # Stop trying encodings if successful\n",
    "    except UnicodeDecodeError:\n",
    "        continue\n",
    "\n",
    "\n",
    "new_machine_data = []\n",
    "old_machine_data = []\n",
    "\n",
    "\n",
    "lines = lines[1:]\n",
    "\n",
    "for line in lines:\n",
    "    new_value, old_value = line.strip().split('\\t')\n",
    "    new_machine_data.append(float(new_value))\n",
    "    old_machine_data.append(float(old_value))\n",
    "\n",
    "\n",
    "\n"
   ]
  },
  {
   "cell_type": "code",
   "execution_count": 16,
   "id": "73ad161b-6eae-4058-8d40-09013ce11941",
   "metadata": {},
   "outputs": [
    {
     "data": {
      "text/plain": [
       "[42.1, 41.0, 41.3, 41.8, 42.4, 42.8, 43.2, 42.3, 41.8, 42.7]"
      ]
     },
     "execution_count": 16,
     "metadata": {},
     "output_type": "execute_result"
    }
   ],
   "source": [
    "new_machine_data "
   ]
  },
  {
   "cell_type": "code",
   "execution_count": 20,
   "id": "3d8f3cee-f4c6-40c4-a486-f5fcde1e47b1",
   "metadata": {},
   "outputs": [
    {
     "data": {
      "text/plain": [
       "[42.7, 43.6, 43.8, 43.3, 42.5, 43.5, 43.1, 41.7, 44.0, 44.1]"
      ]
     },
     "execution_count": 20,
     "metadata": {},
     "output_type": "execute_result"
    }
   ],
   "source": [
    "old_machine_data"
   ]
  },
  {
   "cell_type": "code",
   "execution_count": 27,
   "id": "0e838c51-7f90-46e4-b373-678a924f0d24",
   "metadata": {},
   "outputs": [
    {
     "name": "stdout",
     "output_type": "stream",
     "text": [
      "p_value= 0.013540335651632492\n",
      "There is sufficient evidence to show that one machine is better than the other.\n"
     ]
    }
   ],
   "source": [
    "t_statistic, p_value = stats.ttest_rel(new_machine_data, old_machine_data)\n",
    "\n",
    "# Define significance level (alpha)\n",
    "alpha = 0.05\n",
    "print('p_value=',p_value)\n",
    "# Compare p-value with significance level\n",
    "if p_value < alpha:\n",
    "    print(\"There is sufficient evidence to show that one machine is better than the other.\")\n",
    "else:\n",
    "    print(\"There is not sufficient evidence to conclude that one machine is better than the other.\")"
   ]
  },
  {
   "cell_type": "code",
   "execution_count": 36,
   "id": "17475c6e-cc8c-4947-b0be-d1043e8f9b06",
   "metadata": {},
   "outputs": [],
   "source": [
    "encodings_to_try = ['utf-8', 'utf-16', 'latin-1']  \n",
    "\n",
    "for encoding in encodings_to_try:\n",
    "    try:\n",
    "        with open('student_gpa.txt', 'r', encoding=encoding) as file:\n",
    "            lines = file.readlines()\n",
    "        break  # Stop trying encodings if successful\n",
    "    except UnicodeDecodeError:\n",
    "        continue\n",
    "\n",
    "\n",
    "sophomore_gpas = []\n",
    "junior_gpas = []\n",
    "\n",
    "for line in lines[1:]:\n",
    "    values = line.strip().split('\\t')\n",
    "    if len(values) == 2:  # Ensure both columns have values\n",
    "        sophomore_gpa, junior_gpa = map(float, values)\n",
    "        sophomore_gpas.append(sophomore_gpa)\n",
    "        junior_gpas.append(junior_gpa)\n"
   ]
  },
  {
   "cell_type": "code",
   "execution_count": 38,
   "id": "25e9a1e7-fa89-4419-9c07-732e0b984346",
   "metadata": {},
   "outputs": [
    {
     "name": "stdout",
     "output_type": "stream",
     "text": [
      "p_value= 0.26368688097578663\n",
      "There is not sufficient evidence to conclude that the mean GPAs of sophomores and juniors differ.\n"
     ]
    }
   ],
   "source": [
    "\n",
    "\n",
    "# Perform an independent two-sample t-test\n",
    "t_statistic, p_value = stats.ttest_ind(sophomore_gpas, junior_gpas, equal_var=False)\n",
    "\n",
    "# Define significance level (alpha)\n",
    "alpha = 0.05\n",
    "print('p_value=',p_value)\n",
    "\n",
    "# Compare p-value with significance level\n",
    "if p_value < alpha:\n",
    "    print(\"There is sufficient evidence to conclude that the mean GPAs of sophomores and juniors differ.\")\n",
    "else:\n",
    "    print(\"There is not sufficient evidence to conclude that the mean GPAs of sophomores and juniors differ.\")\n"
   ]
  },
  {
   "cell_type": "code",
   "execution_count": null,
   "id": "763d27ae-9f00-47c5-882b-fb75fc06c765",
   "metadata": {},
   "outputs": [],
   "source": []
  },
  {
   "cell_type": "code",
   "execution_count": null,
   "id": "b60ab837-4cad-48f4-be5b-9c7110e31d52",
   "metadata": {},
   "outputs": [],
   "source": []
  },
  {
   "cell_type": "code",
   "execution_count": null,
   "id": "d07dbba6-f745-40a6-87dd-3bc90c086fea",
   "metadata": {},
   "outputs": [],
   "source": []
  }
 ],
 "metadata": {
  "kernelspec": {
   "display_name": "Python 3 (ipykernel)",
   "language": "python",
   "name": "python3"
  },
  "language_info": {
   "codemirror_mode": {
    "name": "ipython",
    "version": 3
   },
   "file_extension": ".py",
   "mimetype": "text/x-python",
   "name": "python",
   "nbconvert_exporter": "python",
   "pygments_lexer": "ipython3",
   "version": "3.9.12"
  }
 },
 "nbformat": 4,
 "nbformat_minor": 5
}
