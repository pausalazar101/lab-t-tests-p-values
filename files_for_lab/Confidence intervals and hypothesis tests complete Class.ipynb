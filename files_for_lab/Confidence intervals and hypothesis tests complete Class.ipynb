{
 "cells": [
  {
   "cell_type": "code",
   "execution_count": 19,
   "metadata": {},
   "outputs": [],
   "source": [
    "import math"
   ]
  },
  {
   "cell_type": "markdown",
   "metadata": {
    "id": "AALWldggwu17"
   },
   "source": [
    "# Confidence intervals"
   ]
  },
  {
   "cell_type": "markdown",
   "metadata": {
    "id": "dDuNfpw5w06R"
   },
   "source": [
    "When we work with a dataset, we need to keep in mind that in fact we're working with a **sample** of the real **population**. Therefore, any statistic (mean, sd,...etc) that we can compute from our **sample** it will not have the same value as the statistic of the real **population**. It will be a single **estimation** and it will be off by a centain unknown amount called **sampling error**. Furthermore, if we wait until we have more data or we simply pick another dataset from a different source of data and we compute the same statistic we will get a different value because our **sample** will be different. Thus, in general them mean of our sample will not be the same as the mean of the population:\n",
    "\n",
    "$$(sample\\_mean=\\bar{x}) \\neq (population\\_mean=\\mu)$$\n",
    "\n",
    "$$\\mu = \\bar{x} + \\delta(n)$$\n",
    "\n",
    "where $\\delta$ is the **sampling error** that will be different for each sample.This **sampling error** will depend on the **sample size** $n$. The bigger the sample, the smaller the error.\n",
    "\n",
    "Knowing this, could be a bit dissapointing as we don't have any way to determine how big is going to be the **sampling error**. To get a better idea of what could be the real **population mean** we could collect several samples and compute their corresponding **sample means**. Each sample mean will be off by an unknown amount and we might think that we are in the sample place where we started. However, we could make use of the **central limit theorem** and compute **the mean of several sample means** to get a more reliable **estimation**. But this strategy takes time and/or money and we might mot be able to implement it.\n",
    "\n",
    "Then, what else we can do? We can use the **central limit theorem** in our favour. What this theorem says is that the **sampling distribution** (the distribtuion followed by the means of our samples) follows a **normal distribution** regardeless of the original **population distribution**. In other words, if we could be able to collect many samples and to compute the mean of each of sample, when we will plot the distribution followed by these **sample means**, we will find a normal distribution centered on the **population mean**. Therefore, if we substract the population mean from our sample mean, the resulting value will be a random value that will follow a **normal distribution** centered on zero:\n",
    "\n",
    "$$\\bar{x}-\\mu = -\\delta(n) = 𝒩(0,σ)$$\n",
    "\n",
    "if we divide both sides of the equation by the population's standard deviation we will have a normal distribution with $\\mu=0$ and $\\sigma=1$:\n",
    "\n",
    "$$z = \\frac{(\\bar{x}-\\mu)}{\\sigma}= -\\frac{\\delta(n)}{\\sigma} = 𝒩(0,1)$$\n",
    "\n",
    "However, not allways we will know the population's standard deviation $\\sigma$ but we can have a reliable estimation using our sample:\n",
    "\n",
    "$$\\sigma ≈ \\hat{\\sigma}=\\sqrt{ \\sum \\frac{(x - \\bar{x})^2}{n-1} }$$\n",
    "\n",
    "As we know the $𝒩(0,1)$ distribution we can use it to provide a range of values around our sample mean that very likely will contain the real **population value**. The idea is then to take one sample, compute our sample mean $\\bar{x}$, and then provide a range of values around our sample mean $\\bar{x}$ that very likely will contain the real population mean. How likely? As much as we want: 90%, 95%, 98%..."
   ]
  },
  {
   "cell_type": "code",
   "execution_count": 1,
   "metadata": {
    "executionInfo": {
     "elapsed": 212,
     "status": "ok",
     "timestamp": 1688550984776,
     "user": {
      "displayName": "Ignacio Soteras",
      "userId": "02050793736257155229"
     },
     "user_tz": -120
    },
    "id": "ICBZQ4eFrEEu"
   },
   "outputs": [],
   "source": [
    "# 1: confidence interval\n",
    "import numpy as np\n",
    "\n",
    "\n",
    "# create some (fake) data of patient's cholesterol level,\n",
    "# we'll assume this was obtained through measurements\n",
    "# np.random.normal(mean, sd, number_of_samples)\n",
    "np.random.seed(17)"
   ]
  },
  {
   "cell_type": "code",
   "execution_count": 2,
   "metadata": {
    "executionInfo": {
     "elapsed": 212,
     "status": "ok",
     "timestamp": 1688550984776,
     "user": {
      "displayName": "Ignacio Soteras",
      "userId": "02050793736257155229"
     },
     "user_tz": -120
    },
    "id": "ICBZQ4eFrEEu"
   },
   "outputs": [],
   "source": [
    "# Getting 100 values randomly selected from a normal distribution with mean=5.1 and sd=1.6\n",
    "patients = np.random.normal(5.1, 1.6, 100)\n",
    "#     targeted mean value    ^\n",
    "#  with a standard dev of         ^\n",
    "# number of random values to generate  ^"
   ]
  },
  {
   "cell_type": "code",
   "execution_count": 3,
   "metadata": {
    "colab": {
     "base_uri": "https://localhost:8080/"
    },
    "executionInfo": {
     "elapsed": 246,
     "status": "ok",
     "timestamp": 1688550988541,
     "user": {
      "displayName": "Ignacio Soteras",
      "userId": "02050793736257155229"
     },
     "user_tz": -120
    },
    "id": "EBx2Xju8rEE0",
    "outputId": "b08e00aa-5004-49d8-8564-8f91fc14e5ba"
   },
   "outputs": [
    {
     "data": {
      "text/plain": [
       "array([ 5.54202542,  2.13259507,  6.09824178,  6.93249806,  6.75950475,\n",
       "        8.11862229,  4.92128274,  4.52063786,  5.33788007,  4.39954696,\n",
       "        8.5740112 ,  6.9436964 ,  2.18990026,  4.87912105,  5.96374338,\n",
       "        2.25954834,  7.20380246,  4.34248312,  3.35243216,  4.69995609,\n",
       "        3.52832911,  6.75003055,  5.88613404,  4.38536543,  3.80982387,\n",
       "        5.31002841,  3.15990362,  5.35598537,  3.89164314,  5.65983359,\n",
       "        6.66406682,  4.8782636 ,  5.26617009,  5.58094566,  6.64912847,\n",
       "        6.49139815,  6.00845294,  5.84445175,  3.23540307,  1.84240833,\n",
       "        3.25133873, 10.45225183,  5.30276354,  3.98931377,  5.99227909,\n",
       "        5.25863456,  6.12068188,  6.22497709,  3.63425095,  3.84237724,\n",
       "        6.89069087,  3.52656623,  5.49123203,  4.16974442,  5.78730224,\n",
       "        6.37744318,  4.12388792,  6.99664673,  3.96266559,  3.85019371,\n",
       "        4.73140324,  5.29231213,  3.83844826,  0.36380381,  3.82707021,\n",
       "        5.5553316 ,  5.93605965,  5.23368711,  9.45327294,  6.07761261,\n",
       "        3.76248961,  5.09408633,  5.72895149,  6.19519213,  6.34032269,\n",
       "        5.98960462,  4.23443216,  7.5390676 ,  7.03341621,  5.18204366,\n",
       "        4.41739006,  6.39270436,  5.19164762,  3.43572548,  6.59463694,\n",
       "        4.90794473,  8.63122609, -0.33988925,  7.07364623,  4.15939066,\n",
       "        3.53690093,  5.84891248,  9.69380308,  3.16706291,  6.70576509,\n",
       "        6.90916231,  5.99606351,  4.11056432,  4.74032205,  8.64544232])"
      ]
     },
     "execution_count": 3,
     "metadata": {},
     "output_type": "execute_result"
    }
   ],
   "source": [
    "patients"
   ]
  },
  {
   "cell_type": "code",
   "execution_count": 4,
   "metadata": {
    "colab": {
     "base_uri": "https://localhost:8080/"
    },
    "executionInfo": {
     "elapsed": 297,
     "status": "ok",
     "timestamp": 1688551001445,
     "user": {
      "displayName": "Ignacio Soteras",
      "userId": "02050793736257155229"
     },
     "user_tz": -120
    },
    "id": "Mm7PiAhOrEE1",
    "outputId": "866631e4-15bc-4eb4-809f-4fc0e6cb1d3f"
   },
   "outputs": [
    {
     "data": {
      "text/plain": [
       "5.278415670796427"
      ]
     },
     "execution_count": 4,
     "metadata": {},
     "output_type": "execute_result"
    }
   ],
   "source": [
    "# we can find out the sample mean, it is\n",
    "patients.mean()"
   ]
  },
  {
   "cell_type": "code",
   "execution_count": 5,
   "metadata": {
    "executionInfo": {
     "elapsed": 1088,
     "status": "ok",
     "timestamp": 1688551095501,
     "user": {
      "displayName": "Ignacio Soteras",
      "userId": "02050793736257155229"
     },
     "user_tz": -120
    },
    "id": "NeaR-988rEE2"
   },
   "outputs": [],
   "source": [
    "# we can find a confidence interval for the population based on our sample\n",
    "import scipy.stats\n",
    "\n",
    "confidence_level = 0.95\n",
    "degrees_freedom = len(patients) - 1  \n",
    "sample_mean = np.mean(patients)\n",
    "# note that we use the standard error of the sample\n",
    "# is an estimate of the standard error of the population (which is used in the theoretical formula)\n",
    "sample_standard_error = scipy.stats.sem(patients) # sem = standard error of the mean = std(mean)/sqrt(samplesize)\n",
    "\n",
    "confidence_interval = scipy.stats.t.interval(confidence_level,\n",
    "                                             degrees_freedom,\n",
    "                                             sample_mean,\n",
    "                                             sample_standard_error)"
   ]
  },
  {
   "cell_type": "code",
   "execution_count": 6,
   "metadata": {
    "colab": {
     "base_uri": "https://localhost:8080/"
    },
    "executionInfo": {
     "elapsed": 251,
     "status": "ok",
     "timestamp": 1688551100698,
     "user": {
      "displayName": "Ignacio Soteras",
      "userId": "02050793736257155229"
     },
     "user_tz": -120
    },
    "id": "NsewLeBlrEE2",
    "outputId": "2e1f6e5e-c80b-450c-e5ed-b6c5bebf6ab9"
   },
   "outputs": [
    {
     "name": "stdout",
     "output_type": "stream",
     "text": [
      "confidence interval is  (4.920803322187407, 5.6360280194054475) .\n"
     ]
    }
   ],
   "source": [
    "print( 'confidence interval is ', confidence_interval, '.' )"
   ]
  },
  {
   "cell_type": "code",
   "execution_count": 7,
   "metadata": {
    "executionInfo": {
     "elapsed": 228,
     "status": "ok",
     "timestamp": 1688551159521,
     "user": {
      "displayName": "Ignacio Soteras",
      "userId": "02050793736257155229"
     },
     "user_tz": -120
    },
    "id": "whQF5vftNSKF"
   },
   "outputs": [],
   "source": [
    "#Using the normal distribution\n",
    "confidence_interval_normal = scipy.stats.norm.interval(confidence_level,\n",
    "                                             sample_mean,\n",
    "                                             sample_standard_error)"
   ]
  },
  {
   "cell_type": "code",
   "execution_count": 8,
   "metadata": {
    "colab": {
     "base_uri": "https://localhost:8080/"
    },
    "executionInfo": {
     "elapsed": 5,
     "status": "ok",
     "timestamp": 1688551162115,
     "user": {
      "displayName": "Ignacio Soteras",
      "userId": "02050793736257155229"
     },
     "user_tz": -120
    },
    "id": "fFZysszyNaNt",
    "outputId": "80130b95-2239-4ee8-c523-83b53da3ea89"
   },
   "outputs": [
    {
     "name": "stdout",
     "output_type": "stream",
     "text": [
      "confidence interval is  (4.925174396868425, 5.631656944724429) .\n"
     ]
    }
   ],
   "source": [
    "print( 'confidence interval is ', confidence_interval_normal, '.' )"
   ]
  },
  {
   "cell_type": "markdown",
   "metadata": {
    "id": "uT0Zmv7TcVXX"
   },
   "source": [
    "But what this mean? It means that if we would take a large number of samples of 100 patients, and we compute the confidence intervals around each sample mean,\n",
    "about 95% of the confidence intervals will contain the real population mean  within the (lower,upper) values"
   ]
  },
  {
   "cell_type": "code",
   "execution_count": 12,
   "metadata": {},
   "outputs": [
    {
     "data": {
      "text/plain": [
       "-1.9599639845400545"
      ]
     },
     "execution_count": 12,
     "metadata": {},
     "output_type": "execute_result"
    }
   ],
   "source": [
    "scipy.stats.norm.ppf(0.05/2)"
   ]
  },
  {
   "cell_type": "code",
   "execution_count": 13,
   "metadata": {},
   "outputs": [
    {
     "data": {
      "text/plain": [
       "1.959963984540054"
      ]
     },
     "execution_count": 13,
     "metadata": {},
     "output_type": "execute_result"
    }
   ],
   "source": [
    "scipy.stats.norm.ppf(1-(0.05/2))"
   ]
  },
  {
   "cell_type": "markdown",
   "metadata": {
    "id": "gOSsPJ7AT6IR"
   },
   "source": [
    "# Hypothesis testing"
   ]
  },
  {
   "cell_type": "markdown",
   "metadata": {
    "id": "Kvo1xkS4UKV-"
   },
   "source": [
    "Hypothesis tests can be bradly classified into two types:\n",
    "\n",
    "\n",
    "*   One sided\n",
    "*   Two sided\n",
    "\n",
    "The type of test, depends on the alternate Hypothesis. If the alternate hypothesis contains $H_{1 or A}$ an $\\neq$, then is a **two sided test** as it contains **two rejection areas**. In any other case, it will be a **one sided test**.\n",
    "\n",
    "In addition, we can find two sub types of **one sided tests** depending on which side of the distribution is located the rejection area:\n",
    "\n",
    "* Left side\n",
    "* Right side\n",
    "\n",
    "Again, the location of the rejection area depends on the alternate hypothesis $H_{1/a}$. To know where is located we need to look at the unequality. If the alternate hypothesis says $<$m then the rejection area is on the **left hand side of the distribution**. Otherwise in on the **right hand side**."
   ]
  },
  {
   "cell_type": "markdown",
   "metadata": {
    "id": "7-N5BjSqUFmM"
   },
   "source": [
    "What we do with a Hypotesis testing is get a sample and based on our sample try to reject the **null hypothesis**. To do this, we compute what is the probability to get a sample as **extreme or more** than the one we have obtained according to the distribution followed by the **null hypotesis**. In other words: when the **null hypothesis is True** what is the probability to get a sample like the one we have obtained? If this probability is **too small** we will **reject the null hypothesis** (even though that it can be possible to get it). Otherwise, we accept the **null hypothesis**. Then, the question is:\n",
    "\n",
    "What probability we consider a small probability? 0.05, 0.01, 0.001?\n",
    "\n",
    "This value is what we call our **significance level $\\alpha$**. The complementary of $\\alpha$, ie $1-\\alpha$ is called **confidence level** as is tipically given in %: 90%, 95%, 99%...etc. In other words, the **significance level** $\\alpha$ is probability threshold to consider a given probability too small or not. For example, if we set $\\alpha=0.05$, then any probability smaller than 0.05 will be considered too small and we will reject the **null hypothesis**. Otherwise, we will accept the **null hypothesis**."
   ]
  },
  {
   "cell_type": "markdown",
   "metadata": {
    "id": "qP3f-9uEWBwV"
   },
   "source": [
    "## Two sided test example"
   ]
  },
  {
   "cell_type": "markdown",
   "metadata": {
    "id": "SVU01bbXWE-3"
   },
   "source": [
    "Let's assume that  someone thinks (hypothesis) that the mean\n",
    "cholesterol level in the population is 5.6. Then, he/she takes blood samples from 100 individuals, and computes the sample mean. He/she want to make a hypothesis test. Let's see how to do it using Python."
   ]
  },
  {
   "cell_type": "markdown",
   "metadata": {
    "id": "1Q-4EV3rW3cs"
   },
   "source": [
    "In this case, the $H_{0}$ hypothesis is:\n",
    "\n",
    "* $H_{0}: \\mu = 5.6$\n",
    "* $H_{A}: \\mu \\neq 5.6$\n",
    "\n",
    "As the alternate hypothesis contains an $\\neq$ we have two rejection areas. Why?\n",
    "Because the sample mean could be different from the reference value because it's bigger or lower than the reference value. In general, we will never have a value equal to the population mean because of the **sampling error**. Every sample is random, therefore, the values in the sample will be random and the sample mean will be a random value. The question is:\n",
    "\n",
    "How big can be the discrepancy between our sample mean and the reference value in order to reject the $H_{0}$ hypothesis? In other words, how likely/unlikely is to get our sample mean given the $H_{0}$ hypothesis?"
   ]
  },
  {
   "cell_type": "markdown",
   "metadata": {
    "id": "gY246ZMTXOZJ"
   },
   "source": [
    "In this case, $\\alpha$ is the size of the **total rejection area**. However, we have **two** rejection areas equaly size. Therefore, the size of both have to add $\\alpha$. For this reason, the size of each rejection area is $\\alpha/2$."
   ]
  },
  {
   "cell_type": "markdown",
   "metadata": {
    "id": "2636T4r_amXi"
   },
   "source": [
    "To fix things, let's work with a **significance level $\\alpha=0.05$**."
   ]
  },
  {
   "cell_type": "markdown",
   "metadata": {
    "id": "MCWVsb6BcQBp"
   },
   "source": [
    "### Using Scipy"
   ]
  },
  {
   "cell_type": "code",
   "execution_count": 9,
   "metadata": {
    "executionInfo": {
     "elapsed": 281,
     "status": "ok",
     "timestamp": 1688551508350,
     "user": {
      "displayName": "Ignacio Soteras",
      "userId": "02050793736257155229"
     },
     "user_tz": -120
    },
    "id": "3_K1movxrEE4"
   },
   "outputs": [],
   "source": [
    "from scipy.stats import ttest_1samp\n",
    "# someone thinks (hypothesises) that the mean of\n",
    "# cholesterol values in the population is 5.6\n",
    "\n",
    "# we select a value for alpha of 0.05 (p-value threshold)\n",
    "# Two-sided test:\n",
    "# Null hypothesis or H0: mean cholesterol value = 5.6\n",
    "# Alternative hyp or H1: mean cholesterol value != 5.6\n",
    "stat, pval = ttest_1samp(patients, popmean = 5.6, alternative = \"two-sided\")\n",
    "#Documentation: https://docs.scipy.org/doc/scipy/reference/generated/scipy.stats.ttest_1samp.html"
   ]
  },
  {
   "cell_type": "code",
   "execution_count": 10,
   "metadata": {
    "colab": {
     "base_uri": "https://localhost:8080/"
    },
    "executionInfo": {
     "elapsed": 271,
     "status": "ok",
     "timestamp": 1688551511237,
     "user": {
      "displayName": "Ignacio Soteras",
      "userId": "02050793736257155229"
     },
     "user_tz": -120
    },
    "id": "N_qVlOZfxQw_",
    "outputId": "a9d3f089-d322-42a2-ef22-2a3c9599dcd9"
   },
   "outputs": [
    {
     "data": {
      "text/plain": [
       "(-1.7843149987052263, 0.07743590566997763)"
      ]
     },
     "execution_count": 10,
     "metadata": {},
     "output_type": "execute_result"
    }
   ],
   "source": [
    "stat, pval"
   ]
  },
  {
   "cell_type": "markdown",
   "metadata": {
    "id": "OmWkAxjsXyuF"
   },
   "source": [
    "The first value obtained before, is the value of the statistic while the second is the area that corresponds to the statistic. The other value $pval$ is the total area (probability) associated with the statistic at both sides of the distribution. In other words:\n",
    "\n",
    "$$p_{val} = P(D|H_{0}=True)= scipy.stats.t.cdf(-1.78, ddof=n-1) +( 1 - scipy.stats.t.cdf(1.78, ddof=n-1)) $$\n",
    "\n",
    "where $n$ is our sample size (100 in our case). Remember that we have two rejection areas!!!\n",
    "\n",
    "In ourt case our p_value (0.077) is bigger than our significance level $\\alpha/2=0.05/2=0.025$. Therefore **we accept the null hypothesis**: the mean cholesterol value is 5.6"
   ]
  },
  {
   "cell_type": "markdown",
   "metadata": {
    "id": "x2Y7rVH6cscP"
   },
   "source": [
    "### Manual calculation using the statistic method."
   ]
  },
  {
   "cell_type": "code",
   "execution_count": 15,
   "metadata": {
    "colab": {
     "base_uri": "https://localhost:8080/"
    },
    "executionInfo": {
     "elapsed": 209,
     "status": "ok",
     "timestamp": 1688551640570,
     "user": {
      "displayName": "Ignacio Soteras",
      "userId": "02050793736257155229"
     },
     "user_tz": -120
    },
    "id": "tVJYT-FscwNg",
    "outputId": "2aa484e9-f93d-4402-adac-f65ceed2acc6"
   },
   "outputs": [
    {
     "name": "stdout",
     "output_type": "stream",
     "text": [
      "The value of the statistic is:  -1.7843149987052263\n"
     ]
    }
   ],
   "source": [
    "# Computing manually our statistic.\n",
    "# Note the use of ddof=1 in the np.std. We do it because we don't know the population standard deviation a\n",
    "# and we are estimating the value with a sample.\n",
    "t = (np.mean(patients) - 5.6)/(np.std(patients, ddof=1)/np.sqrt(len(patients)))\n",
    "print(\"The value of the statistic is: \",t)"
   ]
  },
  {
   "cell_type": "markdown",
   "metadata": {
    "id": "EdpIQ7oUl8mV"
   },
   "source": [
    "$\\sigma ≈ \\sqrt{\\sum\\frac{1}{(n-1)}(x-\\bar{x})^{2}}$"
   ]
  },
  {
   "cell_type": "markdown",
   "metadata": {
    "id": "pXYYxFe8d4SE"
   },
   "source": [
    "We can see that the value that we obtain for the statistis is the same as the one computed earlier with the `ttest_1samp` function. Great!"
   ]
  },
  {
   "cell_type": "markdown",
   "metadata": {
    "id": "f1EdqArgbkqP"
   },
   "source": [
    "Now, let's compute what are the values on the x-axis that will correspond to $\\alpha/2=0.025$. Those values are called the **critical values**. As we have two rejection areas, we will have **two critical values**. Once we know them, we will be able to compare our statistic against the **critical values**. Let's see how to do it."
   ]
  },
  {
   "cell_type": "code",
   "execution_count": 12,
   "metadata": {
    "colab": {
     "base_uri": "https://localhost:8080/"
    },
    "executionInfo": {
     "elapsed": 218,
     "status": "ok",
     "timestamp": 1688551749884,
     "user": {
      "displayName": "Ignacio Soteras",
      "userId": "02050793736257155229"
     },
     "user_tz": -120
    },
    "id": "dd-rcq2NcUJp",
    "outputId": "80795644-b1aa-420d-f6ac-37bb20ec19ad"
   },
   "outputs": [
    {
     "name": "stdout",
     "output_type": "stream",
     "text": [
      "The lower critical value is -1.984\n",
      "The upper critical value is 1.984\n"
     ]
    }
   ],
   "source": [
    "lower_critical_value, upper_critical_value = scipy.stats.t.ppf((0.05/2), df=len(patients)-1), scipy.stats.t.ppf(1-(0.05/2), df=len(patients)-1)\n",
    "print(\"The lower critical value is {:.3f}\".format(lower_critical_value))\n",
    "print(\"The upper critical value is {:.3f}\".format(upper_critical_value))"
   ]
  },
  {
   "cell_type": "markdown",
   "metadata": {
    "id": "njY0St4IdcFu"
   },
   "source": [
    "Now, we compare our statistc againt these critical values. If our statistic is within thee two values, we will accept the **null hypothesis**. Otherwise we will reject it. In our case\n",
    "\n",
    "$$-1.984 < -1.784 < 1.984 $$\n",
    "\n",
    "Therefore, **we accept the null hypothesis**, which is the same conclussion that we got using the `ttest_1samp` function. Great!"
   ]
  },
  {
   "cell_type": "markdown",
   "metadata": {
    "id": "DwVzS4PDJ_K-"
   },
   "source": [
    "### Manual calculation using the p_value"
   ]
  },
  {
   "cell_type": "markdown",
   "metadata": {
    "id": "us-0r7n5e3C8"
   },
   "source": [
    "When we use the p_value, what we need to do, is to compute what is the area that corresponds to our statistic -1.784. This is given by the **cumulative distribution function cdf**. Then, we will have to determine is this area is bigger than $\\alpha$ and smaller than $1-\\alpha$. If that's the case, we will **accept the null hypothesis**. Let's do it!"
   ]
  },
  {
   "cell_type": "code",
   "execution_count": 16,
   "metadata": {},
   "outputs": [
    {
     "name": "stdout",
     "output_type": "stream",
     "text": [
      "The value of the t statistic is -1.7843149987052263\n"
     ]
    }
   ],
   "source": [
    "print(f'The value of the t statistic is {t}')"
   ]
  },
  {
   "cell_type": "code",
   "execution_count": 17,
   "metadata": {
    "colab": {
     "base_uri": "https://localhost:8080/"
    },
    "executionInfo": {
     "elapsed": 233,
     "status": "ok",
     "timestamp": 1688551815328,
     "user": {
      "displayName": "Ignacio Soteras",
      "userId": "02050793736257155229"
     },
     "user_tz": -120
    },
    "id": "cLU4NevjdQq-",
    "outputId": "41d0be80-c82a-42c3-d7a2-f28838e4c1bf"
   },
   "outputs": [
    {
     "data": {
      "text/plain": [
       "0.038717952834988814"
      ]
     },
     "execution_count": 17,
     "metadata": {},
     "output_type": "execute_result"
    }
   ],
   "source": [
    "scipy.stats.t.cdf(t, df=len(patients)-1)"
   ]
  },
  {
   "cell_type": "markdown",
   "metadata": {
    "id": "Zp-InVLzgSAb"
   },
   "source": [
    "In our case:\n",
    "\n",
    "$$ \\alpha/2 = 0.025 < 0.0387 < 1 - \\alpha/2 = 0.975 $$"
   ]
  },
  {
   "cell_type": "markdown",
   "metadata": {
    "id": "TwKPYEAmKIeO"
   },
   "source": [
    "Again, we reach the same conclussion as with the other two methods: **we accept the null hypothesis**. Great!"
   ]
  },
  {
   "cell_type": "markdown",
   "metadata": {
    "id": "rr_Uv-k5J3yd"
   },
   "source": [
    "## One sided test"
   ]
  },
  {
   "cell_type": "markdown",
   "metadata": {
    "id": "IWGze3W1ZD7K"
   },
   "source": [
    "Now let's assume that our null hypothesis $H_{0}$  is that the cholesterol values are bigger than 5.6. Then in this case the hypothesis are:\n",
    "\n",
    "* $H_{0}: \\mu \\geq 5.6$\n",
    "* $H_{1}: \\mu< 5.6$\n",
    "\n",
    "In this case, we have a one-sided test because we only have one rejection area. Why? Because the only way to have a discrepancy with the null $H_{0}$ hypothesis is to have a sample mean lower that the reference value. In other words, if our sample mean is greater than the reference value, our sample mean value will be consistent with the reference value.\n",
    "\n",
    "According to the distribution, having a value lower than the reference value is also possible. Then the question is:\n",
    "\n",
    "How likely is to have a sample mean value lower than the reference value according to the distribution? If this probability is too low (less than $\\alpha$), we will reject the null hypothesis $H_{0}$"
   ]
  },
  {
   "cell_type": "markdown",
   "metadata": {
    "id": "R6LOxMAvhkWp"
   },
   "source": [
    "### Using Scipy"
   ]
  },
  {
   "cell_type": "code",
   "execution_count": 14,
   "metadata": {
    "executionInfo": {
     "elapsed": 207,
     "status": "ok",
     "timestamp": 1688551941241,
     "user": {
      "displayName": "Ignacio Soteras",
      "userId": "02050793736257155229"
     },
     "user_tz": -120
    },
    "id": "k7tSSU5cY7KX"
   },
   "outputs": [],
   "source": [
    "# One-sided test:\n",
    "# Null hypothesis or H0: mean cholesterol value >= 5.6\n",
    "# Alternative hyp or H1: mean cholesterol value < 5.6\n",
    "\n",
    "\n",
    "# ttest_1samp(sample, population_mean)\n",
    "stat, pval = ttest_1samp(patients, popmean = 5.6, alternative = \"less\")"
   ]
  },
  {
   "cell_type": "code",
   "execution_count": 15,
   "metadata": {
    "colab": {
     "base_uri": "https://localhost:8080/"
    },
    "executionInfo": {
     "elapsed": 234,
     "status": "ok",
     "timestamp": 1688551944136,
     "user": {
      "displayName": "Ignacio Soteras",
      "userId": "02050793736257155229"
     },
     "user_tz": -120
    },
    "id": "9J5QGWr_wQUl",
    "outputId": "11c345c2-d503-4b9e-9011-1ae515eb18d3"
   },
   "outputs": [
    {
     "data": {
      "text/plain": [
       "(-1.7843149987052263, 0.038717952834988814)"
      ]
     },
     "execution_count": 15,
     "metadata": {},
     "output_type": "execute_result"
    }
   ],
   "source": [
    "stat, pval"
   ]
  },
  {
   "cell_type": "markdown",
   "metadata": {
    "id": "HH7l82tahrFI"
   },
   "source": [
    "Of course our statistic and the p_value is the same. What has changed are our **null and alternate hypothesis**. Now, we only have **one rejection area** located on the **left hand side of the distribution**. According to the output:\n",
    "\n",
    "$$0.039 <\\alpha$$\n",
    "\n",
    "Therefore, **we reject the null hypothesis**."
   ]
  },
  {
   "cell_type": "markdown",
   "metadata": {
    "id": "x0EwOjVVi46Y"
   },
   "source": [
    "###Manual calculation using the statistic method."
   ]
  },
  {
   "cell_type": "code",
   "execution_count": 16,
   "metadata": {
    "executionInfo": {
     "elapsed": 239,
     "status": "ok",
     "timestamp": 1688552184077,
     "user": {
      "displayName": "Ignacio Soteras",
      "userId": "02050793736257155229"
     },
     "user_tz": -120
    },
    "id": "RjDBtw6kwWQD"
   },
   "outputs": [],
   "source": [
    "# Computing manually our statistic.\n",
    "t = (np.mean(patients) - 5.6)/(np.std(patients, ddof=1)/np.sqrt(len(patients)))"
   ]
  },
  {
   "cell_type": "markdown",
   "metadata": {
    "id": "JEZw8Xqgi77O"
   },
   "source": [
    "Now, as we have only one rejection area, we will only have one **critical value**. Let's compute what is the value on the x-axis that corresponds to an area of $\\alpha$."
   ]
  },
  {
   "cell_type": "code",
   "execution_count": 17,
   "metadata": {
    "colab": {
     "base_uri": "https://localhost:8080/"
    },
    "executionInfo": {
     "elapsed": 9,
     "status": "ok",
     "timestamp": 1688552208366,
     "user": {
      "displayName": "Ignacio Soteras",
      "userId": "02050793736257155229"
     },
     "user_tz": -120
    },
    "id": "YeoKZuTQjPjC",
    "outputId": "4c8a9fd7-974f-4c03-dc3e-8318dd20512c"
   },
   "outputs": [
    {
     "name": "stdout",
     "output_type": "stream",
     "text": [
      "The critical value is -1.660\n"
     ]
    }
   ],
   "source": [
    "critical_value = scipy.stats.t.ppf(0.05, df=len(patients)-1)\n",
    "print(\"The critical value is {:.3f}\".format(critical_value))"
   ]
  },
  {
   "cell_type": "markdown",
   "metadata": {
    "id": "dpPhn68SkOcV"
   },
   "source": [
    "In our case, we have:\n",
    "\n",
    "$$ -1.784 < -1.660$$\n",
    "\n",
    "our statistics t is smaller than the critical value. Therefore, we **reject the null hypothesis** which is the same conclussion that we have obtained using the `ttest_1samp` function. Great!!"
   ]
  },
  {
   "cell_type": "markdown",
   "metadata": {
    "id": "tALRwHqklAj7"
   },
   "source": [
    "### Manual calculation using the p_value"
   ]
  },
  {
   "cell_type": "markdown",
   "metadata": {
    "id": "6ZsYMSD4lDkE"
   },
   "source": [
    "To use this method, we need to know which area corresponds to our statistic t and compare it with $alpha$. If the area that corresponds to our statistic is smaller than $\\alpha=0.05$ we will **reject the null hypothesis**. Othewise, we will accept it."
   ]
  },
  {
   "cell_type": "code",
   "execution_count": 18,
   "metadata": {
    "colab": {
     "base_uri": "https://localhost:8080/"
    },
    "executionInfo": {
     "elapsed": 295,
     "status": "ok",
     "timestamp": 1688552256076,
     "user": {
      "displayName": "Ignacio Soteras",
      "userId": "02050793736257155229"
     },
     "user_tz": -120
    },
    "id": "EDS9GG07w_qj",
    "outputId": "e3078c89-c47e-43de-e9c8-7da9210adcde"
   },
   "outputs": [
    {
     "data": {
      "text/plain": [
       "0.038717952834988814"
      ]
     },
     "execution_count": 18,
     "metadata": {},
     "output_type": "execute_result"
    }
   ],
   "source": [
    "scipy.stats.t.cdf(t, df=len(patients)-1)"
   ]
  },
  {
   "cell_type": "markdown",
   "metadata": {
    "id": "mehC4PT7l3PS"
   },
   "source": [
    "In our case:\n",
    "\n",
    "$$ 0.039 < \\alpha=0.05$$\n",
    "\n",
    "Therefore, we **reject the null hypothesis** which is the same conclussion that we got with the other two methods. Great!!"
   ]
  },
  {
   "cell_type": "markdown",
   "metadata": {
    "id": "v_K4oaTAbbMG"
   },
   "source": [
    "## One sided test (right)"
   ]
  },
  {
   "cell_type": "markdown",
   "metadata": {
    "id": "3O47YSVabeR5"
   },
   "source": [
    "Now le'ts say that we believe that the cholesterol level is smaller than 5.6\n",
    "\n",
    "Then in this case the hypothesis are:\n",
    "\n",
    "* $H_{0}: \\mu \\leq 5.6$\n",
    "* $H_{1/a}: \\mu > 5.6$\n",
    "\n",
    "In this case, we have a one-sided test because we only have one rejection area. Why? Because the only way to have a discrepancy with the null $H_{0}$ hypothesis is to have a sample mean bigger that the reference value. If our sample mean is lower than the reference value, our sample mean value will be consistent with the reference value.\n",
    "\n",
    "According to the distribtion, having a value bigger than the reference value is also possible. Then the question is:\n",
    "\n",
    "How likely is to have a sample mean value bigger than the reference value according to the distribution? If this probability is too low, we will reject the null hypothesis $H_{0}$"
   ]
  },
  {
   "cell_type": "markdown",
   "metadata": {
    "id": "aybLSfVrmcyd"
   },
   "source": [
    "### Using Scipy"
   ]
  },
  {
   "cell_type": "code",
   "execution_count": 19,
   "metadata": {
    "executionInfo": {
     "elapsed": 251,
     "status": "ok",
     "timestamp": 1688552310156,
     "user": {
      "displayName": "Ignacio Soteras",
      "userId": "02050793736257155229"
     },
     "user_tz": -120
    },
    "id": "kQPifxu4bfk7"
   },
   "outputs": [],
   "source": [
    "# One-sided test:\n",
    "# Null hypothesis or H0: mean cholesterol value <= 5.6\n",
    "# Alternative hyp or H1: mean cholesterol value > 5.6\n",
    "\n",
    "\n",
    "# ttest_1samp(sample, population_mean)\n",
    "stat, pval = ttest_1samp(patients, popmean = 5.6, alternative = \"greater\")"
   ]
  },
  {
   "cell_type": "code",
   "execution_count": 20,
   "metadata": {
    "colab": {
     "base_uri": "https://localhost:8080/"
    },
    "executionInfo": {
     "elapsed": 236,
     "status": "ok",
     "timestamp": 1688552313308,
     "user": {
      "displayName": "Ignacio Soteras",
      "userId": "02050793736257155229"
     },
     "user_tz": -120
    },
    "id": "i4HIqDmLmiV_",
    "outputId": "e1da05a0-e96e-41d7-f9b4-b56390dd09bb"
   },
   "outputs": [
    {
     "data": {
      "text/plain": [
       "(-1.7843149987052263, 0.9612820471650112)"
      ]
     },
     "execution_count": 20,
     "metadata": {},
     "output_type": "execute_result"
    }
   ],
   "source": [
    "stat, pval"
   ]
  },
  {
   "cell_type": "markdown",
   "metadata": {
    "id": "Fi6unfr7nKpg"
   },
   "source": [
    "Once again, our statistic is the same. However, our **null and alternate hypothesis are different**.\n",
    "\n",
    "In this case the p_value is bigger than $\\alpha=0.05$. Therefore we **accept the null hypothesis**"
   ]
  },
  {
   "cell_type": "markdown",
   "metadata": {
    "id": "caB0gY8dnm0W"
   },
   "source": [
    "### Manual calculation using the statistic method."
   ]
  },
  {
   "cell_type": "markdown",
   "metadata": {
    "id": "VHXSiAMknsda"
   },
   "source": [
    "Again, in this case we will only have one rejection area located on the right hand side of the distribution. The size of it it will be $\\alpha$. We need to compare our statistic against the **critical value**. If our statistic is smaller than the critical value, we will **accept the nul hypothesis**. Otherwise, we will **reject the null hypothesis**. Let's compute the **critical value**"
   ]
  },
  {
   "cell_type": "code",
   "execution_count": 21,
   "metadata": {
    "colab": {
     "base_uri": "https://localhost:8080/"
    },
    "executionInfo": {
     "elapsed": 219,
     "status": "ok",
     "timestamp": 1688552391548,
     "user": {
      "displayName": "Ignacio Soteras",
      "userId": "02050793736257155229"
     },
     "user_tz": -120
    },
    "id": "kxiLUUm32TXs",
    "outputId": "8a147577-50c8-4e29-d365-570ac20071d5"
   },
   "outputs": [
    {
     "name": "stdout",
     "output_type": "stream",
     "text": [
      "The critical value is 1.660\n"
     ]
    }
   ],
   "source": [
    "# Compute your p_value\n",
    "critical_value = scipy.stats.t.ppf(1-0.05, df=len(patients)-1)\n",
    "print(\"The critical value is {:.3f}\".format(critical_value))"
   ]
  },
  {
   "cell_type": "markdown",
   "metadata": {
    "id": "L9OR6K1NpSaG"
   },
   "source": [
    "In our case, we have:\n",
    "\n",
    "$$-1.784 < 1.660$$\n",
    "\n",
    "Therefore, we **accept the null hypothesis** which is the same conclussion that we obtained with the previous method. Great!!"
   ]
  },
  {
   "cell_type": "markdown",
   "metadata": {
    "id": "m487kdSGpqjS"
   },
   "source": [
    "### Manual calculation using the p_value"
   ]
  },
  {
   "cell_type": "markdown",
   "metadata": {
    "id": "gkYfWePTpzTm"
   },
   "source": [
    "Finally, in this case we need to know what is the area that corresponds to our statistic t and compare it against $1 - \\alpha$. If our area is smaller than $1 - \\alpha$ we **accept the null hypothesis**.\n",
    "\n",
    "Then, we need to know use the cdf."
   ]
  },
  {
   "cell_type": "code",
   "execution_count": 22,
   "metadata": {
    "colab": {
     "base_uri": "https://localhost:8080/"
    },
    "executionInfo": {
     "elapsed": 5,
     "status": "ok",
     "timestamp": 1688552418687,
     "user": {
      "displayName": "Ignacio Soteras",
      "userId": "02050793736257155229"
     },
     "user_tz": -120
    },
    "id": "7ZRyXkSw0_qu",
    "outputId": "f0177100-bed5-418b-da15-1f37a75cbadf"
   },
   "outputs": [
    {
     "data": {
      "text/plain": [
       "0.038717952834988814"
      ]
     },
     "execution_count": 22,
     "metadata": {},
     "output_type": "execute_result"
    }
   ],
   "source": [
    "scipy.stats.t.cdf(t,df=len(patients)-1)"
   ]
  },
  {
   "cell_type": "markdown",
   "metadata": {
    "id": "7Bu_wYUaqliU"
   },
   "source": [
    "In our case:\n",
    "\n",
    "$$0.038 < 1 - \\alpha = 0.95$$\n",
    "\n",
    "Therefore, we **accept the null hypothesis**. Great!!"
   ]
  },
  {
   "cell_type": "markdown",
   "metadata": {},
   "source": [
    "### Two sample t-test/Comparison of means\n",
    "\n",
    "- Instead of drawing an inference on one population through its sample data, we try to compare the means of two populations from which two different sample sets are drawn. It helps us to test whether the population means of the two groups are equal or not.\n",
    "\n",
    "- This time we will use a T test because population variances are equal, but unknown here. \n",
    "\n",
    "- Some of the assumptions on the data before we can use this test are:\n",
    "  - Populations from which the samples are drawn is assumed to be **normally distributed**\n",
    "  - Sample data has **continuous values** and **not discrete**\n",
    "  - Random samples were drawn from the populations (no bias)\n",
    "  - Data in the two samples must be independent of each other\n"
   ]
  },
  {
   "cell_type": "markdown",
   "metadata": {},
   "source": [
    "A psychologist was interested in exploring whether or not male and female college students have different driving behaviors. There were a number of ways that she could quantify driving behaviors. She opted to focus on the fastest speed ever driven by an individual. Therefore, the particular statistical question she framed was as follows:\n",
    "\n",
    "- Is the mean fastest speed driven by male college students different than the mean fastest speed driven by female college students?\n",
    "\n",
    "She conducted a survey of a random n = 34 male college students and a random m = 29 female college students. Here is a descriptive summary of the results of her survey:\n",
    "\n",
    "- Males\n",
    "samples = 34\n",
    "Sample mean = 105.5\n",
    "Sample standard deviation: 20.1\n",
    "\n",
    "- Females\n",
    "samples = 29\n",
    "Sample mean = 90.0\n",
    "Sample standard deviation:12.2"
   ]
  },
  {
   "cell_type": "markdown",
   "metadata": {},
   "source": [
    "### Steps in setting up hypothesis Tests:\n",
    "\n",
    "1. Null Hypothesis\n",
    "2. Alternate Hypothesis\n",
    "3. Level of Significance\n",
    "4. Test Statistic\n",
    "5. P-value"
   ]
  },
  {
   "cell_type": "markdown",
   "metadata": {},
   "source": [
    "Step1: Define the null hypothesis \n",
    "\n",
    "H0: μ1 = μ2.\n",
    "\n",
    "Step 2: Define the alternative hypothesis. \n",
    "\n",
    "Ha: μ1 != μ2. Since in this case, our null hypothesis would be false on either side of Ha, hence we have a Two tailed Test.\n",
    "\n",
    "Step 3: Decide a test statistics based on the information available. We will use a t-test.\n",
    "\n",
    "Step 4: Level of significance: 0.05.\n",
    "\n",
    "Step 5: Calculate the test statistic."
   ]
  },
  {
   "cell_type": "code",
   "execution_count": 21,
   "metadata": {},
   "outputs": [
    {
     "name": "stdout",
     "output_type": "stream",
     "text": [
      "T Statistic is:  3.4101131776909535\n"
     ]
    }
   ],
   "source": [
    "#males\n",
    "sample_mean1 = 105.5\n",
    "sample_std1 = 20.1\n",
    "n1 = 34\n",
    "#females\n",
    "sample_mean2 = 90.9\n",
    "sample_std2 = 12.2\n",
    "n2 = 29\n",
    "\n",
    "pooled_sample_std = math.sqrt(((n1-1)*sample_std1**2 + (n2-1)*sample_std2**2)/(n1+n2-2))\n",
    "statistic = (sample_mean1-sample_mean2)/(pooled_sample_std*math.sqrt((1/n1)+(1/n2)))\n",
    "print(\"T Statistic is: \", statistic)"
   ]
  },
  {
   "cell_type": "code",
   "execution_count": 25,
   "metadata": {},
   "outputs": [
    {
     "name": "stdout",
     "output_type": "stream",
     "text": [
      "P value is:  0.0005783712704484634\n",
      "Critical Value of z is:  -1.9996235841149783\n"
     ]
    }
   ],
   "source": [
    "from scipy.stats import t\n",
    "\n",
    "print(\"P value is: \", 1- t.cdf(statistic,n1+n2-2))\n",
    "print(\"Critical Value of z is: \", t.ppf(0.025, n1+n2-2)) #alpha is 0.05"
   ]
  },
  {
   "cell_type": "markdown",
   "metadata": {},
   "source": [
    "Step 6: Make inferences.\n",
    "\n",
    "In this case, since the test statistic is greater than the absolute value of \"critical value\", it is in the rejection region. Hence we reject the null hypothesis.\n",
    "\n",
    "Also by looking at the p value directly, we can reject the null hypothesis as it is less than 0.05 -> the means of both samples are not equal"
   ]
  },
  {
   "cell_type": "code",
   "execution_count": null,
   "metadata": {},
   "outputs": [],
   "source": []
  },
  {
   "cell_type": "code",
   "execution_count": null,
   "metadata": {},
   "outputs": [],
   "source": []
  },
  {
   "cell_type": "code",
   "execution_count": null,
   "metadata": {},
   "outputs": [],
   "source": []
  },
  {
   "cell_type": "code",
   "execution_count": null,
   "metadata": {},
   "outputs": [],
   "source": []
  },
  {
   "cell_type": "code",
   "execution_count": null,
   "metadata": {},
   "outputs": [],
   "source": []
  },
  {
   "cell_type": "code",
   "execution_count": null,
   "metadata": {},
   "outputs": [],
   "source": []
  },
  {
   "cell_type": "code",
   "execution_count": null,
   "metadata": {},
   "outputs": [],
   "source": []
  },
  {
   "cell_type": "code",
   "execution_count": null,
   "metadata": {},
   "outputs": [],
   "source": []
  },
  {
   "cell_type": "code",
   "execution_count": null,
   "metadata": {},
   "outputs": [],
   "source": []
  }
 ],
 "metadata": {
  "colab": {
   "provenance": []
  },
  "kernelspec": {
   "display_name": "Python 3 (ipykernel)",
   "language": "python",
   "name": "python3"
  },
  "language_info": {
   "codemirror_mode": {
    "name": "ipython",
    "version": 3
   },
   "file_extension": ".py",
   "mimetype": "text/x-python",
   "name": "python",
   "nbconvert_exporter": "python",
   "pygments_lexer": "ipython3",
   "version": "3.9.12"
  }
 },
 "nbformat": 4,
 "nbformat_minor": 4
}
